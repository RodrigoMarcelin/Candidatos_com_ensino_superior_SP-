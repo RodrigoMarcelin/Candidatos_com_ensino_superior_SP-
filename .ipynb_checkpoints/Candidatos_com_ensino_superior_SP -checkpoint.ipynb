{
 "cells": [
  {
   "cell_type": "code",
   "execution_count": 1,
   "metadata": {},
   "outputs": [],
   "source": [
    "import pandas as pd\n",
    "import matplotlib.pyplot as plt\n",
    "import seaborn as sns\n",
    "import gc\n",
    "import numpy as np\n",
    "\n",
    "import os"
   ]
  },
  {
   "cell_type": "code",
   "execution_count": 2,
   "metadata": {},
   "outputs": [],
   "source": [
    "df = pd.read_csv(\"consulta_cand_2020_SP.csv\", encoding='iso-8859-1', error_bad_lines=False)"
   ]
  },
  {
   "cell_type": "code",
   "execution_count": 3,
   "metadata": {},
   "outputs": [],
   "source": [
    "#print(list(df.columns))"
   ]
  },
  {
   "cell_type": "code",
   "execution_count": 4,
   "metadata": {},
   "outputs": [],
   "source": [
    "colunas = ['SG_UF_NASCIMENTO', 'SG_PARTIDO', 'NM_CANDIDATO', 'DS_GRAU_INSTRUCAO', 'DS_GENERO']\n",
    "\n",
    "dados = pd.read_csv(\"consulta_cand_2020_SP.csv\", encoding='iso-8859-1', sep=',', usecols=colunas)"
   ]
  },
  {
   "cell_type": "code",
   "execution_count": 5,
   "metadata": {},
   "outputs": [],
   "source": [
    "df = dados"
   ]
  },
  {
   "cell_type": "code",
   "execution_count": 6,
   "metadata": {},
   "outputs": [
    {
     "data": {
      "text/plain": [
       "93330"
      ]
     },
     "execution_count": 6,
     "metadata": {},
     "output_type": "execute_result"
    }
   ],
   "source": [
    "total_candidatos = df.groupby(['DS_GRAU_INSTRUCAO']).DS_GRAU_INSTRUCAO.count().sum()\n",
    "total_candidatos"
   ]
  },
  {
   "cell_type": "code",
   "execution_count": 7,
   "metadata": {},
   "outputs": [
    {
     "data": {
      "text/plain": [
       "DS_GRAU_INSTRUCAO\n",
       "ANALFABETO                           2\n",
       "ENSINO FUNDAMENTAL COMPLETO      11065\n",
       "ENSINO FUNDAMENTAL INCOMPLETO     8137\n",
       "ENSINO MÉDIO COMPLETO            36807\n",
       "ENSINO MÉDIO INCOMPLETO           4119\n",
       "LÊ E ESCREVE                      2306\n",
       "SUPERIOR COMPLETO                26304\n",
       "SUPERIOR INCOMPLETO               4590\n",
       "Name: DS_GRAU_INSTRUCAO, dtype: int64"
      ]
     },
     "execution_count": 7,
     "metadata": {},
     "output_type": "execute_result"
    }
   ],
   "source": [
    "df.groupby(['DS_GRAU_INSTRUCAO']).DS_GRAU_INSTRUCAO.count()"
   ]
  },
  {
   "cell_type": "code",
   "execution_count": 8,
   "metadata": {},
   "outputs": [
    {
     "data": {
      "text/plain": [
       "26304"
      ]
     },
     "execution_count": 8,
     "metadata": {},
     "output_type": "execute_result"
    }
   ],
   "source": [
    "total_estudados = (df.loc[df['DS_GRAU_INSTRUCAO'].isin(['SUPERIOR COMPLETO'])]).DS_GRAU_INSTRUCAO.count()\n",
    "total_estudados"
   ]
  },
  {
   "cell_type": "code",
   "execution_count": 9,
   "metadata": {},
   "outputs": [
    {
     "data": {
      "text/plain": [
       "28.183863709418194"
      ]
     },
     "execution_count": 9,
     "metadata": {},
     "output_type": "execute_result"
    }
   ],
   "source": [
    "superior_completo = (total_estudados * 100) / total_candidatos\n",
    "superior_completo"
   ]
  },
  {
   "cell_type": "code",
   "execution_count": 10,
   "metadata": {},
   "outputs": [
    {
     "data": {
      "text/plain": [
       "71.81613629058181"
      ]
     },
     "execution_count": 10,
     "metadata": {},
     "output_type": "execute_result"
    }
   ],
   "source": [
    "sem_ensino_superior = 100 - superior_completo\n",
    "sem_ensino_superior"
   ]
  },
  {
   "cell_type": "code",
   "execution_count": 15,
   "metadata": {},
   "outputs": [
    {
     "data": {
      "text/plain": [
       "Text(0.5, 1.0, '% Candidatos de SP com ensino superior vs % sem ensino superior')"
      ]
     },
     "execution_count": 15,
     "metadata": {},
     "output_type": "execute_result"
    },
    {
     "data": {
      "image/png": "[encoded data removed]",
      "text/plain": [
       "<Figure size 432x288 with 1 Axes>"
      ]
     },
     "metadata": {
      "needs_background": "light"
     },
     "output_type": "display_data"
    }
   ],
   "source": [
    "barras = {'COMPLETO':superior_completo, 'NÃO_COMPLETO':sem_ensino_superior}\n",
    "plt.bar(barras.keys(), barras.values())\n",
    "plt.title('% Candidatos de SP com ensino superior vs % sem ensino superior')\n"
   ]
  },
  {
   "cell_type": "code",
   "execution_count": 12,
   "metadata": {},
   "outputs": [],
   "source": [
    "sp_ensino_completo = (df.loc[(df[\"DS_GRAU_INSTRUCAO\"]==\"SUPERIOR COMPLETO\") & (df[\"SG_UF_NASCIMENTO\"]==\"SP\")]).SG_UF_NASCIMENTO.count()"
   ]
  },
  {
   "cell_type": "code",
   "execution_count": 13,
   "metadata": {},
   "outputs": [
    {
     "data": {
      "text/plain": [
       "85.54972627737226"
      ]
     },
     "execution_count": 13,
     "metadata": {},
     "output_type": "execute_result"
    }
   ],
   "source": [
    "nascidos_sp_ensino_superior_completo = (sp_ensino_completo * 100) / total_estudados\n",
    "nascidos_sp_ensino_superior_completo"
   ]
  },
  {
   "cell_type": "code",
   "execution_count": 14,
   "metadata": {},
   "outputs": [
    {
     "data": {
      "text/plain": [
       "14.450273722627742"
      ]
     },
     "execution_count": 14,
     "metadata": {},
     "output_type": "execute_result"
    }
   ],
   "source": [
    "nao_nascidos_sp_ensino_superior_completo = 100 - nascidos_sp_ensino_superior_completo\n",
    "nao_nascidos_sp_ensino_superior_completo"
   ]
  },
  {
   "cell_type": "code",
   "execution_count": 17,
   "metadata": {},
   "outputs": [
    {
     "data": {
      "text/plain": [
       "Text(0.5, 1.0, '% Candidatos de SP que tem ensino superior vs % Candidatos de SP que tem ensino superior')"
      ]
     },
     "execution_count": 17,
     "metadata": {},
     "output_type": "execute_result"
    },
    {
     "data": {
      "image/png": "[encoded data removed]",
      "text/plain": [
       "<Figure size 432x288 with 1 Axes>"
      ]
     },
     "metadata": {
      "needs_background": "light"
     },
     "output_type": "display_data"
    }
   ],
   "source": [
    "barras = {'NASCIDO_SP':nascidos_sp_ensino_superior_completo, 'NÃO_NASCIDO_SP':nao_nascidos_sp_ensino_superior_completo}\n",
    "plt.bar(barras.keys(), barras.values())\n",
    "plt.title('% Candidatos de SP que tem ensino superior vs % Candidatos de SP que tem ensino superior')"
   ]
  },
  {
   "cell_type": "code",
   "execution_count": 18,
   "metadata": {},
   "outputs": [],
   "source": [
    "fem_ensino_completo = (df.loc[(df[\"DS_GRAU_INSTRUCAO\"]==\"SUPERIOR COMPLETO\") & (df[\"DS_GENERO\"]==\"FEMININO\")]).DS_GENERO.count()"
   ]
  },
  {
   "cell_type": "code",
   "execution_count": 19,
   "metadata": {},
   "outputs": [],
   "source": [
    "fem_total = (df.loc[(df[\"DS_GENERO\"]==\"FEMININO\")]).DS_GENERO.count()"
   ]
  },
  {
   "cell_type": "code",
   "execution_count": 20,
   "metadata": {},
   "outputs": [],
   "source": [
    "porcento_fem_ensino_completo = (fem_ensino_completo * 100) / fem_total"
   ]
  },
  {
   "cell_type": "code",
   "execution_count": 21,
   "metadata": {},
   "outputs": [
    {
     "name": "stdout",
     "output_type": "stream",
     "text": [
      "9753\n",
      "31223\n"
     ]
    }
   ],
   "source": [
    "print(fem_ensino_completo)\n",
    "print(fem_total)"
   ]
  },
  {
   "cell_type": "code",
   "execution_count": 22,
   "metadata": {},
   "outputs": [],
   "source": [
    "mas_ensino_completo = (df.loc[(df[\"DS_GRAU_INSTRUCAO\"]==\"SUPERIOR COMPLETO\") & (df[\"DS_GENERO\"]==\"MASCULINO\")]).DS_GENERO.count()"
   ]
  },
  {
   "cell_type": "code",
   "execution_count": 23,
   "metadata": {},
   "outputs": [],
   "source": [
    "mas_total = (df.loc[(df[\"DS_GENERO\"]==\"MASCULINO\")]).DS_GENERO.count()"
   ]
  },
  {
   "cell_type": "code",
   "execution_count": 24,
   "metadata": {},
   "outputs": [],
   "source": [
    "porcento_mas_ensino_completo = (mas_ensino_completo * 100) / mas_total"
   ]
  },
  {
   "cell_type": "code",
   "execution_count": 25,
   "metadata": {},
   "outputs": [],
   "source": [
    "gruped = df[(df[\"DS_GRAU_INSTRUCAO\"]==\"SUPERIOR COMPLETO\")].groupby(\"SG_PARTIDO\").count()"
   ]
  },
  {
   "cell_type": "code",
   "execution_count": 26,
   "metadata": {},
   "outputs": [
    {
     "name": "stdout",
     "output_type": "stream",
     "text": [
      "SG_PARTIDO\n",
      "AVANTE            579\n",
      "CIDADANIA         893\n",
      "DC                174\n",
      "DEM              1890\n",
      "MDB              1835\n",
      "NOVO              113\n",
      "PATRIOTA          781\n",
      "PC do B           276\n",
      "PCB                 4\n",
      "PCO                32\n",
      "PDT               923\n",
      "PL               1425\n",
      "PMB               115\n",
      "PMN               140\n",
      "PODE             1414\n",
      "PP               1046\n",
      "PROS              257\n",
      "PRTB              579\n",
      "PSB              1006\n",
      "PSC               499\n",
      "PSD              1806\n",
      "PSDB             2756\n",
      "PSL              1156\n",
      "PSOL              489\n",
      "PSTU               24\n",
      "PT               1128\n",
      "PTB              1519\n",
      "PTC               224\n",
      "PV                907\n",
      "REDE              300\n",
      "REPUBLICANOS     1335\n",
      "SOLIDARIEDADE     673\n",
      "UP                  6\n",
      "Name: DS_GRAU_INSTRUCAO, dtype: int64\n"
     ]
    }
   ],
   "source": [
    "print(gruped[\"DS_GRAU_INSTRUCAO\"])"
   ]
  },
  {
   "cell_type": "code",
   "execution_count": 27,
   "metadata": {},
   "outputs": [
    {
     "data": {
      "text/plain": [
       "Text(0.5, 1.0, 'Canditos formados superior por partidos')"
      ]
     },
     "execution_count": 27,
     "metadata": {},
     "output_type": "execute_result"
    },
    {
     "data": {
      "image/png": "[encoded data removed]",
      "text/plain": [
       "<Figure size 720x1440 with 1 Axes>"
      ]
     },
     "metadata": {
      "needs_background": "light"
     },
     "output_type": "display_data"
    }
   ],
   "source": [
    "plt.figure(figsize=(10,20))\n",
    "plt.barh(gruped.index,gruped[\"DS_GRAU_INSTRUCAO\"], .8)\n",
    "plt.yticks(gruped.index)\n",
    "plt.title('Canditos formados superior por partidos')"
   ]
  },
  {
   "cell_type": "code",
   "execution_count": 28,
   "metadata": {},
   "outputs": [
    {
     "data": {
      "text/plain": [
       "Text(0.5, 1.0, 'Quantidade de homens vs mulheres candidatos')"
      ]
     },
     "execution_count": 28,
     "metadata": {},
     "output_type": "execute_result"
    },
    {
     "data": {
      "image/png": "[encoded data removed]",
      "text/plain": [
       "<Figure size 432x288 with 1 Axes>"
      ]
     },
     "metadata": {
      "needs_background": "light"
     },
     "output_type": "display_data"
    }
   ],
   "source": [
    "barras = {'Feminina':fem_total, 'Masculina':mas_total}\n",
    "plt.bar(barras.keys(), barras.values())\n",
    "plt.title('Quantidade de homens vs mulheres candidatos')"
   ]
  },
  {
   "cell_type": "code",
   "execution_count": 29,
   "metadata": {},
   "outputs": [
    {
     "data": {
      "text/plain": [
       "Text(0.5, 1.0, 'Porcentagem de Homens estudadas vs não estudados')"
      ]
     },
     "execution_count": 29,
     "metadata": {},
     "output_type": "execute_result"
    },
    {
     "data": {
      "image/png": "[encoded data removed]",
      "text/plain": [
       "<Figure size 432x288 with 1 Axes>"
      ]
     },
     "metadata": {
      "needs_background": "light"
     },
     "output_type": "display_data"
    }
   ],
   "source": [
    "sem_ensino = 100 - porcento_mas_ensino_completo\n",
    "barras = {'Com_ensino_superior':porcento_mas_ensino_completo, 'Sem_ensino_superior':sem_ensino}\n",
    "plt.bar(barras.keys(), barras.values())\n",
    "plt.title('Porcentagem de Homens estudadas vs não estudados')\n"
   ]
  },
  {
   "cell_type": "code",
   "execution_count": 30,
   "metadata": {},
   "outputs": [
    {
     "data": {
      "text/plain": [
       "Text(0.5, 1.0, 'Porcentagem de mulheres estudadas vs não estudadas')"
      ]
     },
     "execution_count": 30,
     "metadata": {},
     "output_type": "execute_result"
    },
    {
     "data": {
      "image/png": "[encoded data removed]",
      "text/plain": [
       "<Figure size 432x288 with 1 Axes>"
      ]
     },
     "metadata": {
      "needs_background": "light"
     },
     "output_type": "display_data"
    }
   ],
   "source": [
    "sem_ensino = 100 - porcento_fem_ensino_completo\n",
    "barras = {'Com_ensino_superior':porcento_fem_ensino_completo, 'Sem_ensino_superior':sem_ensino}\n",
    "plt.bar(barras.keys(), barras.values())\n",
    "plt.title('Porcentagem de mulheres estudadas vs não estudadas')"
   ]
  },
  {
   "cell_type": "code",
   "execution_count": 171,
   "metadata": {},
   "outputs": [
    {
     "data": {
      "text/plain": [
       "Text(0.5, 1.0, 'Porcentagem de pessoas com ensino superior, Feminina vs Masculina')"
      ]
     },
     "execution_count": 171,
     "metadata": {},
     "output_type": "execute_result"
    },
    {
     "data": {
      "image/png": "[encoded data removed]",
      "text/plain": [
       "<Figure size 432x288 with 1 Axes>"
      ]
     },
     "metadata": {
      "needs_background": "light"
     },
     "output_type": "display_data"
    }
   ],
   "source": [
    "barrash = {'Feminina':porcento_fem_ensino_completo, 'Masculina':porcento_mas_ensino_completo}\n",
    "plt.bar(barrash.keys(), barrash.values())\n",
    "plt.title('Porcentagem de pessoas com ensino superior, Feminina vs Masculina')"
   ]
  }
 ],
 "metadata": {
  "kernelspec": {
   "display_name": "Python 3",
   "language": "python",
   "name": "python3"
  },
  "language_info": {
   "codemirror_mode": {
    "name": "ipython",
    "version": 3
   },
   "file_extension": ".py",
   "mimetype": "text/x-python",
   "name": "python",
   "nbconvert_exporter": "python",
   "pygments_lexer": "ipython3",
   "version": "3.8.5"
  }
 },
 "nbformat": 4,
 "nbformat_minor": 4
}
